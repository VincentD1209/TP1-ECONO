{
 "cells": [
  {
   "cell_type": "code",
   "execution_count": 8,
   "id": "6672e98c",
   "metadata": {},
   "outputs": [],
   "source": [
    "# Importation des librairies de base\n",
    "import numpy as np\n",
    "import pandas as pd\n",
    "import matplotlib.pyplot as plt\n",
    "import seaborn as sns\n",
    "import statsmodels.api as sm"
   ]
  },
  {
   "cell_type": "code",
   "execution_count": null,
   "id": "a97bd044",
   "metadata": {},
   "outputs": [],
   "source": [
    "# Connexion à la base de données WRDS\n",
    "db = wrds.Connection(wrds_username='')\n",
    "\n",
    "# Changer le nom après wrds_username pour te connecter, \n",
    "# entrer le nom d'utilisateur puis ton mot de passe dans la barre du haut, \n",
    "# puis \"y\" pour ne pas avoir à te reconnecter à chaque fois!"
   ]
  }
 ],
 "metadata": {
  "kernelspec": {
   "display_name": "sandbox-Qm5Y7PVS-py3.13",
   "language": "python",
   "name": "python3"
  },
  "language_info": {
   "codemirror_mode": {
    "name": "ipython",
    "version": 3
   },
   "file_extension": ".py",
   "mimetype": "text/x-python",
   "name": "python",
   "nbconvert_exporter": "python",
   "pygments_lexer": "ipython3",
   "version": "3.13.7"
  }
 },
 "nbformat": 4,
 "nbformat_minor": 5
}
